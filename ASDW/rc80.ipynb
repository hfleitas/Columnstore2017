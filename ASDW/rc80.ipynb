{
    "metadata": {
        "kernelspec": {
            "name": "SQL",
            "display_name": "SQL",
            "language": "sql"
        },
        "language_info": {
            "name": "sql",
            "version": ""
        }
    },
    "nbformat_minor": 2,
    "nbformat": 4,
    "cells": [
        {
            "cell_type": "code",
            "source": "SELECT name\r\nFROM   sys.database_principals\r\nWHERE  name LIKE '%rc%' AND type_desc = 'DATABASE_ROLE'",
            "metadata": {},
            "outputs": [
                {
                    "output_type": "display_data",
                    "data": {
                        "text/html": "(11 rows affected)"
                    },
                    "metadata": {}
                },
                {
                    "output_type": "display_data",
                    "data": {
                        "text/html": "Total execution time: 00:00:00.087"
                    },
                    "metadata": {}
                },
                {
                    "output_type": "execute_result",
                    "execution_count": 10,
                    "data": {
                        "application/vnd.dataresource+json": {
                            "schema": {
                                "fields": [
                                    {
                                        "name": "name"
                                    }
                                ]
                            },
                            "data": [
                                {
                                    "0": "xlargerc"
                                },
                                {
                                    "0": "largerc"
                                },
                                {
                                    "0": "mediumrc"
                                },
                                {
                                    "0": "staticrc10"
                                },
                                {
                                    "0": "staticrc20"
                                },
                                {
                                    "0": "staticrc30"
                                },
                                {
                                    "0": "staticrc40"
                                },
                                {
                                    "0": "staticrc50"
                                },
                                {
                                    "0": "staticrc60"
                                },
                                {
                                    "0": "staticrc70"
                                },
                                {
                                    "0": "staticrc80"
                                }
                            ]
                        },
                        "text/html": "<table><tr><th>name</th></tr><tr><td>xlargerc</td></tr><tr><td>largerc</td></tr><tr><td>mediumrc</td></tr><tr><td>staticrc10</td></tr><tr><td>staticrc20</td></tr><tr><td>staticrc30</td></tr><tr><td>staticrc40</td></tr><tr><td>staticrc50</td></tr><tr><td>staticrc60</td></tr><tr><td>staticrc70</td></tr><tr><td>staticrc80</td></tr></table>"
                    },
                    "metadata": {}
                }
            ],
            "execution_count": 10
        },
        {
            "cell_type": "code",
            "source": "--CREATE USER [LoaderRC60] WITH DEFAULT_SCHEMA=[dbo];\r\nexec sys.sp_droprolemember @rolename = N'staticrc60', @membername = N'LoaderRC60'\r\nexec sys.sp_droprolemember @rolename = N'largerc', @membername = N'LoaderRC60'\r\nGO\r\nexec sys.sp_addrolemember @rolename = N'staticrc80', @membername = N'LoaderRC60'\r\nexec sys.sp_addrolemember @rolename = N'xlargerc', @membername = N'LoaderRC60'\r\ngo\r\n\r\nexec sys.sp_droprolemember @rolename = N'staticrc80', @membername = N'LoaderRC60'\r\nexec sys.sp_droprolemember @rolename = N'xlargerc', @membername = N'LoaderRC60'\r\nexec sys.sp_droprolemember @rolename = N'mediumrc', @membername = N'LoaderRC60'\r\n\r\nGO\r\n--exec sys.sp_addrolemember @rolename = N'mediumrc', @membername = N'LoaderRC60'\r\nexec sys.sp_addrolemember @rolename = N'staticrc60', @membername = N'LoaderRC60'\r\n\r\n",
            "metadata": {},
            "outputs": [
                {
                    "output_type": "display_data",
                    "data": {
                        "text/html": "Commands completed successfully."
                    },
                    "metadata": {}
                },
                {
                    "output_type": "display_data",
                    "data": {
                        "text/html": "Commands completed successfully."
                    },
                    "metadata": {}
                },
                {
                    "output_type": "display_data",
                    "data": {
                        "text/html": "Commands completed successfully."
                    },
                    "metadata": {}
                },
                {
                    "output_type": "display_data",
                    "data": {
                        "text/html": "Commands completed successfully."
                    },
                    "metadata": {}
                },
                {
                    "output_type": "display_data",
                    "data": {
                        "text/html": "Total execution time: 00:00:00.445"
                    },
                    "metadata": {}
                }
            ],
            "execution_count": 6
        },
        {
            "cell_type": "code",
            "source": "SELECT DP1.name AS DatabaseRoleName,   \r\n   isnull (DP2.name, 'No members') AS DatabaseUserName   \r\n FROM sys.database_role_members AS DRM  \r\n RIGHT OUTER JOIN sys.database_principals AS DP1  \r\n   ON DRM.role_principal_id = DP1.principal_id  \r\n LEFT OUTER JOIN sys.database_principals AS DP2  \r\n   ON DRM.member_principal_id = DP2.principal_id  \r\nWHERE DP1.type = 'R'\r\nORDER BY DP1.name;",
            "metadata": {},
            "outputs": [
                {
                    "output_type": "display_data",
                    "data": {
                        "text/html": "(22 rows affected)"
                    },
                    "metadata": {}
                },
                {
                    "output_type": "display_data",
                    "data": {
                        "text/html": "Total execution time: 00:00:00.168"
                    },
                    "metadata": {}
                },
                {
                    "output_type": "execute_result",
                    "metadata": {},
                    "execution_count": 1,
                    "data": {
                        "application/vnd.dataresource+json": {
                            "schema": {
                                "fields": [
                                    {
                                        "name": "DatabaseRoleName"
                                    },
                                    {
                                        "name": "DatabaseUserName"
                                    }
                                ]
                            },
                            "data": [
                                {
                                    "0": "db_accessadmin",
                                    "1": "No members"
                                },
                                {
                                    "0": "db_backupoperator",
                                    "1": "No members"
                                },
                                {
                                    "0": "db_datareader",
                                    "1": "risk"
                                },
                                {
                                    "0": "db_datawriter",
                                    "1": "No members"
                                },
                                {
                                    "0": "db_ddladmin",
                                    "1": "No members"
                                },
                                {
                                    "0": "db_denydatareader",
                                    "1": "No members"
                                },
                                {
                                    "0": "db_denydatawriter",
                                    "1": "No members"
                                },
                                {
                                    "0": "db_owner",
                                    "1": "dbo"
                                },
                                {
                                    "0": "db_owner",
                                    "1": "brent"
                                },
                                {
                                    "0": "db_securityadmin",
                                    "1": "No members"
                                },
                                {
                                    "0": "largerc",
                                    "1": "No members"
                                },
                                {
                                    "0": "mediumrc",
                                    "1": "No members"
                                },
                                {
                                    "0": "public",
                                    "1": "No members"
                                },
                                {
                                    "0": "staticrc10",
                                    "1": "No members"
                                },
                                {
                                    "0": "staticrc20",
                                    "1": "No members"
                                },
                                {
                                    "0": "staticrc30",
                                    "1": "No members"
                                },
                                {
                                    "0": "staticrc40",
                                    "1": "No members"
                                },
                                {
                                    "0": "staticrc50",
                                    "1": "No members"
                                },
                                {
                                    "0": "staticrc60",
                                    "1": "LoaderRC60"
                                },
                                {
                                    "0": "staticrc70",
                                    "1": "No members"
                                },
                                {
                                    "0": "staticrc80",
                                    "1": "No members"
                                },
                                {
                                    "0": "xlargerc",
                                    "1": "No members"
                                }
                            ]
                        },
                        "text/html": "<table><tr><th>DatabaseRoleName</th><th>DatabaseUserName</th></tr><tr><td>db_accessadmin</td><td>No members</td></tr><tr><td>db_backupoperator</td><td>No members</td></tr><tr><td>db_datareader</td><td>risk</td></tr><tr><td>db_datawriter</td><td>No members</td></tr><tr><td>db_ddladmin</td><td>No members</td></tr><tr><td>db_denydatareader</td><td>No members</td></tr><tr><td>db_denydatawriter</td><td>No members</td></tr><tr><td>db_owner</td><td>dbo</td></tr><tr><td>db_owner</td><td>brent</td></tr><tr><td>db_securityadmin</td><td>No members</td></tr><tr><td>largerc</td><td>No members</td></tr><tr><td>mediumrc</td><td>No members</td></tr><tr><td>public</td><td>No members</td></tr><tr><td>staticrc10</td><td>No members</td></tr><tr><td>staticrc20</td><td>No members</td></tr><tr><td>staticrc30</td><td>No members</td></tr><tr><td>staticrc40</td><td>No members</td></tr><tr><td>staticrc50</td><td>No members</td></tr><tr><td>staticrc60</td><td>LoaderRC60</td></tr><tr><td>staticrc70</td><td>No members</td></tr><tr><td>staticrc80</td><td>No members</td></tr><tr><td>xlargerc</td><td>No members</td></tr></table>"
                    }
                }
            ],
            "execution_count": 1
        },
        {
            "cell_type": "markdown",
            "source": "master db",
            "metadata": {}
        },
        {
            "cell_type": "code",
            "source": "create login LoaderRC80 with PASSWORD='Class80user!'",
            "metadata": {},
            "outputs": [
                {
                    "output_type": "error",
                    "ename": "",
                    "evalue": "Msg 15247, Level 16, State 100, Line 1\r\nUser does not have permission to perform this action.",
                    "traceback": []
                },
                {
                    "output_type": "display_data",
                    "data": {
                        "text/html": "Total execution time: 00:00:00.057"
                    },
                    "metadata": {}
                }
            ],
            "execution_count": 5
        },
        {
            "cell_type": "markdown",
            "source": "UserDB",
            "metadata": {}
        },
        {
            "cell_type": "code",
            "source": "\r\nCREATE USER [LoaderRC80] for login LoaderRC80\r\nGO\r\nsys.sp_addrolemember @rolename = N'staticrc80', @membername = N'LoaderRC80'\r\nGO",
            "metadata": {},
            "outputs": [
                {
                    "output_type": "error",
                    "ename": "",
                    "evalue": "Msg 5001, Level 16, State 2, Line 1\r\nUser must be in the master database.",
                    "traceback": []
                },
                {
                    "output_type": "error",
                    "ename": "",
                    "evalue": "Msg 15410, Level 11, State 1, Line 3\r\nUser or role 'LoaderRC80' does not exist in this database.",
                    "traceback": []
                },
                {
                    "output_type": "display_data",
                    "data": {
                        "text/html": "Total execution time: 00:00:00.190"
                    },
                    "metadata": {}
                }
            ],
            "execution_count": 3
        },
        {
            "cell_type": "code",
            "source": "EXEC sp_droprolemember 'largerc', 'loaduser';",
            "metadata": {},
            "outputs": [],
            "execution_count": 0
        }
    ]
}