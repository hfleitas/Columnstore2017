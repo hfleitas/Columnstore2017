{
    "metadata": {
        "kernelspec": {
            "name": "SQL",
            "display_name": "SQL",
            "language": "sql"
        },
        "language_info": {
            "name": "sql",
            "version": ""
        }
    },
    "nbformat_minor": 2,
    "nbformat": 4,
    "cells": [
        {
            "cell_type": "markdown",
            "source": [
                "## 🐋 Whales"
            ],
            "metadata": {
                "azdata_cell_guid": "93a473fd-2c2f-406a-9a38-edb5d0de9b4a"
            }
        },
        {
            "cell_type": "code",
            "source": [
                "select      top 10 table_name, two_part_name, sum(reserved_space_GB) as table_reserved_space_GB, sum(row_count) as row_count\n",
                "from        dbo.vPartitionSizing\n",
                "where       table_name not in (\n",
                "    'ctasSuperTableSum',\n",
                "    'ctasSuperMapPremiumJump',\n",
                "    'ctasTempMask2018Dupes',\n",
                "    'mapBrockRebootedTreatiesCtasReplicate',\n",
                "    'mapPostLevelStatusCtasReplicate',\n",
                "    'mapRptOnePostLevelJumpsCtasReplicate',\n",
                "    'mapTreatyReplicate',\n",
                "    'mapTreatyTermsReplicate'\n",
                ") --pbi tables\n",
                "group by    table_name, two_part_name\n",
                "order by    table_reserved_space_GB desc;"
            ],
            "metadata": {
                "azdata_cell_guid": "424999cd-cfb4-4637-a063-bd4a485c3bbf"
            },
            "outputs": [
                {
                    "output_type": "display_data",
                    "data": {
                        "text/html": "(10 rows affected)"
                    },
                    "metadata": {}
                },
                {
                    "output_type": "display_data",
                    "data": {
                        "text/html": "Total execution time: 00:00:08.318"
                    },
                    "metadata": {}
                },
                {
                    "output_type": "execute_result",
                    "metadata": {},
                    "execution_count": 1,
                    "data": {
                        "application/vnd.dataresource+json": {
                            "schema": {
                                "fields": [
                                    {
                                        "name": "table_name"
                                    },
                                    {
                                        "name": "two_part_name"
                                    },
                                    {
                                        "name": "table_reserved_space_GB"
                                    },
                                    {
                                        "name": "row_count"
                                    }
                                ]
                            },
                            "data": [
                                {
                                    "0": "ctasOutput12Stage",
                                    "1": "[dbo].[ctasOutput12Stage]",
                                    "2": "1636.585528000",
                                    "3": "10944764238"
                                },
                                {
                                    "0": "OutputStage_Base",
                                    "1": "[dbo].[OutputStage_Base]",
                                    "2": "1633.178368000",
                                    "3": "10944764238"
                                },
                                {
                                    "0": "ctasOutput12Stage2",
                                    "1": "[dbo].[ctasOutput12Stage2]",
                                    "2": "1312.135928000",
                                    "3": "5679812557"
                                },
                                {
                                    "0": "ctasOutput12_Prep2",
                                    "1": "[dbo].[ctasOutput12_Prep2]",
                                    "2": "1207.096040000",
                                    "3": "10886506532"
                                },
                                {
                                    "0": "Output12_Prep1",
                                    "1": "[dbo].[Output12_Prep1]",
                                    "2": "1170.033624000",
                                    "3": "11770403095"
                                },
                                {
                                    "0": "Output12_working",
                                    "1": "[dbo].[Output12_working]",
                                    "2": "858.535992000",
                                    "3": "11983586863"
                                },
                                {
                                    "0": "ctassupertablesum05132020",
                                    "1": "[dbo].[ctassupertablesum05132020]",
                                    "2": "735.362648000",
                                    "3": "2975648345"
                                },
                                {
                                    "0": "ctasTheRollingSysLagTable",
                                    "1": "[dbo].[ctasTheRollingSysLagTable]",
                                    "2": "562.762672000",
                                    "3": "5679812557"
                                },
                                {
                                    "0": "ctasSuperTableSum20200610",
                                    "1": "[dbo].[ctasSuperTableSum20200610]",
                                    "2": "485.283872000",
                                    "3": "3913236099"
                                },
                                {
                                    "0": "ctasOutput12_Prep2Lag",
                                    "1": "[dbo].[ctasOutput12_Prep2Lag]",
                                    "2": "463.340304000",
                                    "3": "10672725085"
                                }
                            ]
                        },
                        "text/html": [
                            "<table>",
                            "<tr><th>table_name</th><th>two_part_name</th><th>table_reserved_space_GB</th><th>row_count</th></tr>",
                            "<tr><td>ctasOutput12Stage</td><td>[dbo].[ctasOutput12Stage]</td><td>1636.585528000</td><td>10944764238</td></tr>",
                            "<tr><td>OutputStage_Base</td><td>[dbo].[OutputStage_Base]</td><td>1633.178368000</td><td>10944764238</td></tr>",
                            "<tr><td>ctasOutput12Stage2</td><td>[dbo].[ctasOutput12Stage2]</td><td>1312.135928000</td><td>5679812557</td></tr>",
                            "<tr><td>ctasOutput12_Prep2</td><td>[dbo].[ctasOutput12_Prep2]</td><td>1207.096040000</td><td>10886506532</td></tr>",
                            "<tr><td>Output12_Prep1</td><td>[dbo].[Output12_Prep1]</td><td>1170.033624000</td><td>11770403095</td></tr>",
                            "<tr><td>Output12_working</td><td>[dbo].[Output12_working]</td><td>858.535992000</td><td>11983586863</td></tr>",
                            "<tr><td>ctassupertablesum05132020</td><td>[dbo].[ctassupertablesum05132020]</td><td>735.362648000</td><td>2975648345</td></tr>",
                            "<tr><td>ctasTheRollingSysLagTable</td><td>[dbo].[ctasTheRollingSysLagTable]</td><td>562.762672000</td><td>5679812557</td></tr>",
                            "<tr><td>ctasSuperTableSum20200610</td><td>[dbo].[ctasSuperTableSum20200610]</td><td>485.283872000</td><td>3913236099</td></tr>",
                            "<tr><td>ctasOutput12_Prep2Lag</td><td>[dbo].[ctasOutput12_Prep2Lag]</td><td>463.340304000</td><td>10672725085</td></tr>",
                            "</table>"
                        ]
                    }
                }
            ],
            "execution_count": 1
        },
        {
            "cell_type": "code",
            "source": [
                "/*create external table [ext].[Organic_4Q18_Prod_Seriatim_Projection]\r\n",
                "with (   \r\n",
                "    location = '/organic/seriatim/valuation/2018/12/',\r\n",
                "    data_source = hlramerica_raw,  \r\n",
                "    file_format = parquet_ff\r\n",
                ")\r\n",
                "as select * from [dbo].[Organic_4Q18_Prod_Seriatim_Projection];\r\n",
                "select count_big (*) from [ext].[Organic_4Q18_Prod_Seriatim_Projection];\r\n",
                "exec sp_spaceused Organic_4Q18_Prod_Seriatim_Projection;\r\n",
                "drop table dbo.Organic_4Q18_Prod_Seriatim_Projection\r\n",
                "*/\r\n",
                "exec ext.MoveTable \r\n",
                "    @extDestination ='Organic_4Q18_Prod_Seriatim_Projection',\r\n",
                "    @dboSource      ='Organic_4Q18_Prod_Seriatim_Projection',\r\n",
                "    @extLocation    ='/organic/seriatim/valuation/2018/12/',\r\n",
                "    @extDS          ='hlramerica_raw',\r\n",
                "    @extFF          ='parquet_ff',\r\n",
                "    @printonly      = 1 --set to string in ADF\r\n",
                "\r\n",
                "Error\r\n",
                "{\r\n",
                "    \"errorCode\": \"2400\",\r\n",
                "    \"message\": \"Cannot create Sql Source. Please double check the connection string, stored procedure are set with correct format. Error: The value of the property 'Value' is invalid for the stored procedure parameter 'printonly'.\",\r\n",
                "    \"failureType\": \"UserError\",\r\n",
                "    \"target\": \"MoveTable\",\r\n",
                "    \"details\": []\r\n",
                "}"
            ],
            "metadata": {
                "azdata_cell_guid": "53481a63-f678-4576-8b68-eebe33c23c8e",
                "tags": [
                    "hide_input"
                ]
            },
            "outputs": [
                {
                    "output_type": "display_data",
                    "data": {
                        "text/html": "create external table [ext].[Organic_4Q18_Prod_Seriatim_Projection]\r\n    with (   \r\n        location = '/organic/seriatim/valuation/2018/12/',\r\n        data_source = hlramerica_raw,  \r\n        file_format = parquet_ff\r\n    )\r\n    as select * from [dbo].[Organic_4Q18_Prod_Seriatim_Projection];\r\n    select count_big (*) from [ext].[Organic_4Q18_Prod_Seriatim_Projection];\r\n    exec sp_spaceused Organic_4Q18_Prod_Seriatim_Projection;\r\n    drop table [dbo].[Organic_4Q18_Prod_Seriatim_Projection];"
                    },
                    "metadata": {}
                },
                {
                    "output_type": "display_data",
                    "data": {
                        "text/html": "Total execution time: 00:00:00.343"
                    },
                    "metadata": {}
                }
            ],
            "execution_count": 9
        },
        {
            "cell_type": "markdown",
            "source": [
                "## 💾 Samples"
            ],
            "metadata": {
                "azdata_cell_guid": "a4856131-e472-4507-9f8e-267a55780bcc"
            }
        },
        {
            "cell_type": "code",
            "source": [
                "SELECT [ReplicatedTable] = t.[name]\r\n",
                "  FROM sys.tables t  \r\n",
                "  JOIN sys.pdw_replicated_table_cache_state c  \r\n",
                "    ON c.object_id = t.object_id \r\n",
                "  JOIN sys.pdw_table_distribution_properties p \r\n",
                "    ON p.object_id = t.object_id \r\n",
                "  WHERE p.[distribution_policy_desc] = 'REPLICATE'"
            ],
            "metadata": {
                "azdata_cell_guid": "8bc99fd2-1179-4db3-b0c2-b2b747ce1dbf",
                "tags": [
                    "hide_input"
                ]
            },
            "outputs": [
                {
                    "output_type": "display_data",
                    "data": {
                        "text/html": "(69 rows affected)"
                    },
                    "metadata": {}
                },
                {
                    "output_type": "display_data",
                    "data": {
                        "text/html": "Total execution time: 00:00:00.223"
                    },
                    "metadata": {}
                },
                {
                    "output_type": "execute_result",
                    "execution_count": 16,
                    "data": {
                        "application/vnd.dataresource+json": {
                            "schema": {
                                "fields": [
                                    {
                                        "name": "ReplicatedTable"
                                    }
                                ]
                            },
                            "data": [
                                {
                                    "0": "ifrsActualEndOf2018Replicate"
                                },
                                {
                                    "0": "ifrsDesiredOutputReplicateVarChar"
                                },
                                {
                                    "0": "TreatyMap2"
                                },
                                {
                                    "0": "ctasDimSTRepBlock"
                                },
                                {
                                    "0": "mapBrockRebootedTreatiesCtasReplicate"
                                },
                                {
                                    "0": "mapTreatyActualsNoDupeReplicatexxx"
                                },
                                {
                                    "0": "ifrsDesiredOutputReplicate"
                                },
                                {
                                    "0": "ctasSummaryPremiumCategoryReplicate"
                                },
                                {
                                    "0": "ctasReserveCleanCombosReplicate"
                                },
                                {
                                    "0": "mapBrockTreatiesReplicate"
                                },
                                {
                                    "0": "ReserveDropCombosReplicate"
                                },
                                {
                                    "0": "PeoplSoftBrockReplicate"
                                },
                                {
                                    "0": "IFRS_DesiredOutput"
                                },
                                {
                                    "0": "JAMAS_Organic_Mort_Map_Replicate"
                                },
                                {
                                    "0": "ctasJamasCleanTableBrock"
                                },
                                {
                                    "0": "mapTreatyTermsReplicate"
                                },
                                {
                                    "0": "PeopleSoft"
                                },
                                {
                                    "0": "ctasJamasCleanTableOrganic"
                                },
                                {
                                    "0": "IFRS_DesiredOutputxxx"
                                },
                                {
                                    "0": "ctasBrockSubBlockJAMAS"
                                },
                                {
                                    "0": "mapBrockNovationsReplicate"
                                },
                                {
                                    "0": "ctasMortImprovementCohortJAMAS"
                                },
                                {
                                    "0": "dimTreatyDefinitionReplicate"
                                },
                                {
                                    "0": "mapTreatyReplicate"
                                },
                                {
                                    "0": "s1r"
                                },
                                {
                                    "0": "s1idx"
                                },
                                {
                                    "0": "dimMarketSegmentReplicate"
                                },
                                {
                                    "0": "gaapFactorsv1Replicate"
                                },
                                {
                                    "0": "mapPostLevelManagedStatusCtasReplicate"
                                },
                                {
                                    "0": "ctasDimPostLevelManagedStatusCtasReplicate"
                                },
                                {
                                    "0": "ctasMaxTape"
                                },
                                {
                                    "0": "mapPostLevelStatusCtasReplicate"
                                },
                                {
                                    "0": "gaapFactorsReplicate"
                                },
                                {
                                    "0": "mapTreatyActualsReplicate"
                                },
                                {
                                    "0": "ctasSageToModelTreatyReplicate"
                                },
                                {
                                    "0": "HLRTreatyMappingReplicate"
                                },
                                {
                                    "0": "ctasRecoverCCIDMMPReplicate"
                                },
                                {
                                    "0": "mapRenegotiatedTreatiesListCtasReplicate"
                                },
                                {
                                    "0": "testTreatyAdd"
                                },
                                {
                                    "0": "ccFactorsReplicate"
                                },
                                {
                                    "0": "mapRptFirstPostLevelAndJumpsCtasReplicate"
                                },
                                {
                                    "0": "dimClassReplicate"
                                },
                                {
                                    "0": "PeopleSoftTreatyReplicate"
                                },
                                {
                                    "0": "mapRptOnePostLevelJumpsCtasReplicate"
                                },
                                {
                                    "0": "s1r_1928"
                                },
                                {
                                    "0": "ctasRecoverPolMMPReplicate"
                                },
                                {
                                    "0": "ctasPolMMPReplicate"
                                },
                                {
                                    "0": "s1idx_1928"
                                },
                                {
                                    "0": "ccFactorsReplicatexxx"
                                },
                                {
                                    "0": "ctasDimSystemTreaty"
                                },
                                {
                                    "0": "ctasBrockRecapturesJAMAS"
                                },
                                {
                                    "0": "ctasDimSystemTreatyClean"
                                },
                                {
                                    "0": "ctasDropCombosJAMAS"
                                },
                                {
                                    "0": "ctasDiagnoseDupesReplicate"
                                },
                                {
                                    "0": "ctasCCIDMMPReplicate"
                                },
                                {
                                    "0": "mapTreatyActualsNoDupeReplicate"
                                },
                                {
                                    "0": "ifrsActualEndOf2018Replicate_1928"
                                },
                                {
                                    "0": "BMCW_IFRS_DesiredOutput"
                                },
                                {
                                    "0": "input12TreatyReplicate"
                                },
                                {
                                    "0": "mapRecaptureBrockTreatiesReplicate2"
                                },
                                {
                                    "0": "ccFactorsv2Replicate"
                                },
                                {
                                    "0": "gaapFactorsv4Replicate"
                                },
                                {
                                    "0": "ctasMortImprovementAsmt19JAMAS"
                                },
                                {
                                    "0": "mapRecaptureBrockTreatiesReplicate"
                                },
                                {
                                    "0": "mapRecaptureBrockTreatiesReplicateVar"
                                },
                                {
                                    "0": "ctasInputBadBrockStackGroups"
                                },
                                {
                                    "0": "HLRTreatyMappingReplicate_xxx"
                                },
                                {
                                    "0": "ccFactorsv1Replicate"
                                },
                                {
                                    "0": "gaapFactorsReplicatexxx"
                                }
                            ]
                        },
                        "text/html": "<table><tr><th>ReplicatedTable</th></tr><tr><td>ifrsActualEndOf2018Replicate</td></tr><tr><td>ifrsDesiredOutputReplicateVarChar</td></tr><tr><td>TreatyMap2</td></tr><tr><td>ctasDimSTRepBlock</td></tr><tr><td>mapBrockRebootedTreatiesCtasReplicate</td></tr><tr><td>mapTreatyActualsNoDupeReplicatexxx</td></tr><tr><td>ifrsDesiredOutputReplicate</td></tr><tr><td>ctasSummaryPremiumCategoryReplicate</td></tr><tr><td>ctasReserveCleanCombosReplicate</td></tr><tr><td>mapBrockTreatiesReplicate</td></tr><tr><td>ReserveDropCombosReplicate</td></tr><tr><td>PeoplSoftBrockReplicate</td></tr><tr><td>IFRS_DesiredOutput</td></tr><tr><td>JAMAS_Organic_Mort_Map_Replicate</td></tr><tr><td>ctasJamasCleanTableBrock</td></tr><tr><td>mapTreatyTermsReplicate</td></tr><tr><td>PeopleSoft</td></tr><tr><td>ctasJamasCleanTableOrganic</td></tr><tr><td>IFRS_DesiredOutputxxx</td></tr><tr><td>ctasBrockSubBlockJAMAS</td></tr><tr><td>mapBrockNovationsReplicate</td></tr><tr><td>ctasMortImprovementCohortJAMAS</td></tr><tr><td>dimTreatyDefinitionReplicate</td></tr><tr><td>mapTreatyReplicate</td></tr><tr><td>s1r</td></tr><tr><td>s1idx</td></tr><tr><td>dimMarketSegmentReplicate</td></tr><tr><td>gaapFactorsv1Replicate</td></tr><tr><td>mapPostLevelManagedStatusCtasReplicate</td></tr><tr><td>ctasDimPostLevelManagedStatusCtasReplicate</td></tr><tr><td>ctasMaxTape</td></tr><tr><td>mapPostLevelStatusCtasReplicate</td></tr><tr><td>gaapFactorsReplicate</td></tr><tr><td>mapTreatyActualsReplicate</td></tr><tr><td>ctasSageToModelTreatyReplicate</td></tr><tr><td>HLRTreatyMappingReplicate</td></tr><tr><td>ctasRecoverCCIDMMPReplicate</td></tr><tr><td>mapRenegotiatedTreatiesListCtasReplicate</td></tr><tr><td>testTreatyAdd</td></tr><tr><td>ccFactorsReplicate</td></tr><tr><td>mapRptFirstPostLevelAndJumpsCtasReplicate</td></tr><tr><td>dimClassReplicate</td></tr><tr><td>PeopleSoftTreatyReplicate</td></tr><tr><td>mapRptOnePostLevelJumpsCtasReplicate</td></tr><tr><td>s1r_1928</td></tr><tr><td>ctasRecoverPolMMPReplicate</td></tr><tr><td>ctasPolMMPReplicate</td></tr><tr><td>s1idx_1928</td></tr><tr><td>ccFactorsReplicatexxx</td></tr><tr><td>ctasDimSystemTreaty</td></tr><tr><td>ctasBrockRecapturesJAMAS</td></tr><tr><td>ctasDimSystemTreatyClean</td></tr><tr><td>ctasDropCombosJAMAS</td></tr><tr><td>ctasDiagnoseDupesReplicate</td></tr><tr><td>ctasCCIDMMPReplicate</td></tr><tr><td>mapTreatyActualsNoDupeReplicate</td></tr><tr><td>ifrsActualEndOf2018Replicate_1928</td></tr><tr><td>BMCW_IFRS_DesiredOutput</td></tr><tr><td>input12TreatyReplicate</td></tr><tr><td>mapRecaptureBrockTreatiesReplicate2</td></tr><tr><td>ccFactorsv2Replicate</td></tr><tr><td>gaapFactorsv4Replicate</td></tr><tr><td>ctasMortImprovementAsmt19JAMAS</td></tr><tr><td>mapRecaptureBrockTreatiesReplicate</td></tr><tr><td>mapRecaptureBrockTreatiesReplicateVar</td></tr><tr><td>ctasInputBadBrockStackGroups</td></tr><tr><td>HLRTreatyMappingReplicate_xxx</td></tr><tr><td>ccFactorsv1Replicate</td></tr><tr><td>gaapFactorsReplicatexxx</td></tr></table>"
                    },
                    "metadata": {}
                }
            ],
            "execution_count": 16
        },
        {
            "cell_type": "markdown",
            "source": [
                "## 💾 Save"
            ],
            "metadata": {
                "azdata_cell_guid": "64bfaf8d-c259-47ce-bb32-8fcf045d774c"
            }
        },
        {
            "cell_type": "code",
            "source": [
                "if object_id('ext.MoveSetting') is not null drop table ext.MoveSetting;\r\n",
                "create table ext.MoveSetting (\r\n",
                "    MoveSettingId int,\r\n",
                "    ExtDestination [nvarchar](256),\r\n",
                "    DboSource [nvarchar](256),\r\n",
                "    ExtLocation [nvarchar](256),\r\n",
                "    ExtDS [nvarchar](256),\r\n",
                "    ExtFF [nvarchar](128),\r\n",
                "    PrintOnly nvarchar(1),\r\n",
                "    OverwriteExtDestination nvarchar(1),\r\n",
                "    DropDboSourceOnly nvarchar(1)\r\n",
                ") \r\n",
                "with (\r\n",
                "\tdistribution = replicate,\r\n",
                "\tclustered index (MoveSettingId) \r\n",
                ");"
            ],
            "metadata": {
                "azdata_cell_guid": "47b8ec01-c811-4388-aa83-1921baf75b1d",
                "tags": [
                    "hide_input"
                ]
            },
            "outputs": [
                {
                    "output_type": "display_data",
                    "data": {
                        "text/html": "Commands completed successfully."
                    },
                    "metadata": {}
                },
                {
                    "output_type": "display_data",
                    "data": {
                        "text/html": "Total execution time: 00:00:00.932"
                    },
                    "metadata": {}
                }
            ],
            "execution_count": 18
        },
        {
            "cell_type": "markdown",
            "source": [
                "## 🥧 Baking"
            ],
            "metadata": {
                "azdata_cell_guid": "cbbd92f5-c464-489e-8f93-060a9130486f"
            }
        },
        {
            "cell_type": "code",
            "source": [
                "delete from ext.MoveSetting;\r\n",
                "insert into ext.MoveSetting (\r\n",
                "    MoveSettingId,\r\n",
                "    ExtDestination,\r\n",
                "    DboSource,\r\n",
                "    ExtLocation,\r\n",
                "    ExtDS,\r\n",
                "    ExtFF,\r\n",
                "    PrintOnly,\r\n",
                "    OverwriteExtDestination,\r\n",
                "    DropDboSourceOnly\r\n",
                ")\r\n",
                "select  row_number() over (order by eds.name, et.name, et.location) as MoveSettingId,\r\n",
                "        et.name as ExtDestination,\r\n",
                "        et.name as DboSource,\r\n",
                "        et.location as ExtLocation,\r\n",
                "        eds.name as ExtDS,\r\n",
                "        eff.name as ExtFF,\r\n",
                "        0 as PrintOnly,\r\n",
                "        case \r\n",
                "            when et.name like '%temp%' \r\n",
                "                or et.name like '%stage%'\r\n",
                "                or et.name = 'threeb' \r\n",
                "            then 1 else 0\r\n",
                "        end as OverwriteExtDestination,\r\n",
                "        0 as DropDboSourceOnly\r\n",
                "from    sys.external_tables et\r\n",
                "inner join sys.external_data_sources eds\r\n",
                "    on et.data_source_id = eds.data_source_id\r\n",
                "inner join sys.external_file_formats eff\r\n",
                "    on et.file_format_id = eff.file_format_id"
            ],
            "metadata": {
                "azdata_cell_guid": "25ccda42-7989-4523-a99c-8158197d7abe",
                "tags": [
                    "hide_input"
                ]
            },
            "outputs": [
                {
                    "output_type": "display_data",
                    "data": {
                        "text/html": "(2 rows affected)"
                    },
                    "metadata": {}
                },
                {
                    "output_type": "display_data",
                    "data": {
                        "text/html": "(14 rows affected)"
                    },
                    "metadata": {}
                },
                {
                    "output_type": "display_data",
                    "data": {
                        "text/html": "Total execution time: 00:00:01.762"
                    },
                    "metadata": {}
                }
            ],
            "execution_count": 2
        },
        {
            "cell_type": "code",
            "source": [
                "select * from ext.MoveSetting"
            ],
            "metadata": {
                "azdata_cell_guid": "92be6dc5-83e1-41fd-9396-517caa9b794a"
            },
            "outputs": [
                {
                    "output_type": "display_data",
                    "data": {
                        "text/html": "(14 rows affected)"
                    },
                    "metadata": {}
                },
                {
                    "output_type": "display_data",
                    "data": {
                        "text/html": "Total execution time: 00:00:00.255"
                    },
                    "metadata": {}
                },
                {
                    "output_type": "execute_result",
                    "execution_count": 3,
                    "data": {
                        "application/vnd.dataresource+json": {
                            "schema": {
                                "fields": [
                                    {
                                        "name": "MoveSettingId"
                                    },
                                    {
                                        "name": "ExtDestination"
                                    },
                                    {
                                        "name": "DboSource"
                                    },
                                    {
                                        "name": "ExtLocation"
                                    },
                                    {
                                        "name": "ExtDS"
                                    },
                                    {
                                        "name": "ExtFF"
                                    },
                                    {
                                        "name": "PrintOnly"
                                    },
                                    {
                                        "name": "OverwriteExtDestination"
                                    },
                                    {
                                        "name": "DropDboSourceOnly"
                                    }
                                ]
                            },
                            "data": [
                                {
                                    "0": "1",
                                    "1": "ctasSuperTable",
                                    "2": "ctasSuperTable",
                                    "3": "/super/2019/11/",
                                    "4": "hlramerica_prod",
                                    "5": "parquet_ff",
                                    "6": "0",
                                    "7": "0",
                                    "8": "0"
                                },
                                {
                                    "0": "2",
                                    "1": "ctasSuperTableModel2",
                                    "2": "ctasSuperTableModel2",
                                    "3": "/model2/2019/11/",
                                    "4": "hlramerica_prod",
                                    "5": "parquet_ff",
                                    "6": "0",
                                    "7": "0",
                                    "8": "0"
                                },
                                {
                                    "0": "3",
                                    "1": "Output12",
                                    "2": "Output12",
                                    "3": "/output/2020/03/",
                                    "4": "hlramerica_prod",
                                    "5": "csv2_off_ff",
                                    "6": "0",
                                    "7": "0",
                                    "8": "0"
                                },
                                {
                                    "0": "4",
                                    "1": "Brock_4Q18_Prod_Seriatim_Projection",
                                    "2": "Brock_4Q18_Prod_Seriatim_Projection",
                                    "3": "/brock/seriatim/valuation/2018/12/",
                                    "4": "hlramerica_raw",
                                    "5": "parquet_ff",
                                    "6": "0",
                                    "7": "0",
                                    "8": "0"
                                },
                                {
                                    "0": "5",
                                    "1": "Organic_4Q18_Prod_Seriatim_Projection",
                                    "2": "Organic_4Q18_Prod_Seriatim_Projection",
                                    "3": "/organic/seriatim/valuation/2018/12/",
                                    "4": "hlramerica_raw",
                                    "5": "parquet_ff",
                                    "6": "0",
                                    "7": "0",
                                    "8": "0"
                                },
                                {
                                    "0": "6",
                                    "1": "vwPeopleSoft",
                                    "2": "vwPeopleSoft",
                                    "3": "/finance/peoplesoft/2019/12/[dbo].[vwPeopleSoft].parquet",
                                    "4": "hlramerica_raw",
                                    "5": "parquet_ff",
                                    "6": "0",
                                    "7": "0",
                                    "8": "0"
                                },
                                {
                                    "0": "7",
                                    "1": "ctasSuperTableStage",
                                    "2": "ctasSuperTableStage",
                                    "3": "/stage/2019/11/",
                                    "4": "hlramerica_staging",
                                    "5": "parquet_ff",
                                    "6": "0",
                                    "7": "1",
                                    "8": "0"
                                },
                                {
                                    "0": "8",
                                    "1": "ctasSuperTableStage2",
                                    "2": "ctasSuperTableStage2",
                                    "3": "/stage2/2019/11/",
                                    "4": "hlramerica_staging",
                                    "5": "parquet_ff",
                                    "6": "0",
                                    "7": "1",
                                    "8": "0"
                                },
                                {
                                    "0": "9",
                                    "1": "ctasSuperTableStage3",
                                    "2": "ctasSuperTableStage3",
                                    "3": "/stage3/2019/11/",
                                    "4": "hlramerica_staging",
                                    "5": "parquet_ff",
                                    "6": "0",
                                    "7": "1",
                                    "8": "0"
                                },
                                {
                                    "0": "10",
                                    "1": "TempDeleteMe2b",
                                    "2": "TempDeleteMe2b",
                                    "3": "/temp2b/2019/11/",
                                    "4": "hlramerica_staging",
                                    "5": "parquet_ff",
                                    "6": "0",
                                    "7": "1",
                                    "8": "0"
                                },
                                {
                                    "0": "11",
                                    "1": "TempDeleteMe2c",
                                    "2": "TempDeleteMe2c",
                                    "3": "/temp2c/2019/11/",
                                    "4": "hlramerica_staging",
                                    "5": "parquet_ff",
                                    "6": "0",
                                    "7": "1",
                                    "8": "0"
                                },
                                {
                                    "0": "12",
                                    "1": "TempDeleteMe3",
                                    "2": "TempDeleteMe3",
                                    "3": "/temp3/2019/11/",
                                    "4": "hlramerica_staging",
                                    "5": "parquet_ff",
                                    "6": "0",
                                    "7": "1",
                                    "8": "0"
                                },
                                {
                                    "0": "13",
                                    "1": "TempDeleteMe3b",
                                    "2": "TempDeleteMe3b",
                                    "3": "/temp/2019/11/",
                                    "4": "hlramerica_staging",
                                    "5": "parquet_ff",
                                    "6": "0",
                                    "7": "1",
                                    "8": "0"
                                },
                                {
                                    "0": "14",
                                    "1": "threeb",
                                    "2": "threeb",
                                    "3": "/threeb/2019/11/",
                                    "4": "hlramerica_staging",
                                    "5": "parquet_ff",
                                    "6": "0",
                                    "7": "1",
                                    "8": "0"
                                }
                            ]
                        },
                        "text/html": "<table><tr><th>MoveSettingId</th><th>ExtDestination</th><th>DboSource</th><th>ExtLocation</th><th>ExtDS</th><th>ExtFF</th><th>PrintOnly</th><th>OverwriteExtDestination</th><th>DropDboSourceOnly</th></tr><tr><td>1</td><td>ctasSuperTable</td><td>ctasSuperTable</td><td>/super/2019/11/</td><td>hlramerica_prod</td><td>parquet_ff</td><td>0</td><td>0</td><td>0</td></tr><tr><td>2</td><td>ctasSuperTableModel2</td><td>ctasSuperTableModel2</td><td>/model2/2019/11/</td><td>hlramerica_prod</td><td>parquet_ff</td><td>0</td><td>0</td><td>0</td></tr><tr><td>3</td><td>Output12</td><td>Output12</td><td>/output/2020/03/</td><td>hlramerica_prod</td><td>csv2_off_ff</td><td>0</td><td>0</td><td>0</td></tr><tr><td>4</td><td>Brock_4Q18_Prod_Seriatim_Projection</td><td>Brock_4Q18_Prod_Seriatim_Projection</td><td>/brock/seriatim/valuation/2018/12/</td><td>hlramerica_raw</td><td>parquet_ff</td><td>0</td><td>0</td><td>0</td></tr><tr><td>5</td><td>Organic_4Q18_Prod_Seriatim_Projection</td><td>Organic_4Q18_Prod_Seriatim_Projection</td><td>/organic/seriatim/valuation/2018/12/</td><td>hlramerica_raw</td><td>parquet_ff</td><td>0</td><td>0</td><td>0</td></tr><tr><td>6</td><td>vwPeopleSoft</td><td>vwPeopleSoft</td><td>/finance/peoplesoft/2019/12/[dbo].[vwPeopleSoft].parquet</td><td>hlramerica_raw</td><td>parquet_ff</td><td>0</td><td>0</td><td>0</td></tr><tr><td>7</td><td>ctasSuperTableStage</td><td>ctasSuperTableStage</td><td>/stage/2019/11/</td><td>hlramerica_staging</td><td>parquet_ff</td><td>0</td><td>1</td><td>0</td></tr><tr><td>8</td><td>ctasSuperTableStage2</td><td>ctasSuperTableStage2</td><td>/stage2/2019/11/</td><td>hlramerica_staging</td><td>parquet_ff</td><td>0</td><td>1</td><td>0</td></tr><tr><td>9</td><td>ctasSuperTableStage3</td><td>ctasSuperTableStage3</td><td>/stage3/2019/11/</td><td>hlramerica_staging</td><td>parquet_ff</td><td>0</td><td>1</td><td>0</td></tr><tr><td>10</td><td>TempDeleteMe2b</td><td>TempDeleteMe2b</td><td>/temp2b/2019/11/</td><td>hlramerica_staging</td><td>parquet_ff</td><td>0</td><td>1</td><td>0</td></tr><tr><td>11</td><td>TempDeleteMe2c</td><td>TempDeleteMe2c</td><td>/temp2c/2019/11/</td><td>hlramerica_staging</td><td>parquet_ff</td><td>0</td><td>1</td><td>0</td></tr><tr><td>12</td><td>TempDeleteMe3</td><td>TempDeleteMe3</td><td>/temp3/2019/11/</td><td>hlramerica_staging</td><td>parquet_ff</td><td>0</td><td>1</td><td>0</td></tr><tr><td>13</td><td>TempDeleteMe3b</td><td>TempDeleteMe3b</td><td>/temp/2019/11/</td><td>hlramerica_staging</td><td>parquet_ff</td><td>0</td><td>1</td><td>0</td></tr><tr><td>14</td><td>threeb</td><td>threeb</td><td>/threeb/2019/11/</td><td>hlramerica_staging</td><td>parquet_ff</td><td>0</td><td>1</td><td>0</td></tr></table>"
                    },
                    "metadata": {}
                }
            ],
            "execution_count": 3
        },
        {
            "cell_type": "markdown",
            "source": [
                "## 🐳 Top 10\r\n",
                "* replace(DboSource,'ctas','') as ExtDestination"
            ],
            "metadata": {
                "azdata_cell_guid": "035465f1-4b6b-4cb4-9e8d-f707798d0f98"
            }
        },
        {
            "cell_type": "code",
            "source": [
                "set nocount on; \r\n",
                "delete from ext.MoveSetting;\r\n",
                "-- insert into ext.MoveSetting values (1,  'TempDeleteMe3b',          'TempDeleteMe3bctas',           '/TempDeleteMe3b/',              'hlramerica_staging',   'parquet_ff', 0, 1, 0);\r\n",
                "-- insert into ext.MoveSetting values (2,  'SuperTableSum20200303',   'ctasSuperTableSum20200303',    '/SuperTableSum/20200303/',      'hlramerica_prod',      'parquet_ff', 0, 0, 0);\r\n",
                "-- insert into ext.MoveSetting values (3,  'TempDeleteMe2b',          'TempDeleteMe2b',               '/TempDeleteMe2b/',              'hlramerica_staging',   'parquet_ff', 0, 1, 0);\r\n",
                "-- insert into ext.MoveSetting values (4,  'SuperTableSum20200305',   'ctasSuperTableSum20200305',    '/SuperTableSum/20200305/',      'hlramerica_prod',      'parquet_ff', 0, 0, 0);\r\n",
                "-- insert into ext.MoveSetting values (5,  'SuperTableSum20200130',   'ctasSuperTableSum20200130',    '/SuperTableSum/20200130/',      'hlramerica_prod',      'parquet_ff', 0, 0, 0);\r\n",
                "-- insert into ext.MoveSetting values (6,  'TempDeleteMe2c',          'TempDeleteMe2c',               '/TempDeleteMe2c/',              'hlramerica_staging',   'parquet_ff', 0, 1, 0);\r\n",
                "-- insert into ext.MoveSetting values (7,  'SuperTableStage2',        'ctasSuperTableStage2',         '/SuperTableStage2/',            'hlramerica_staging',   'parquet_ff', 0, 1, 0);\r\n",
                "-- insert into ext.MoveSetting values (8,  'SuperTableStage',         'ctasSuperTableStage',          '/SuperTableStage/',             'hlramerica_staging',   'parquet_ff', 0, 1, 0);\r\n",
                "-- insert into ext.MoveSetting values (9,  'SuperTableModel2',        'ctasSuperTableModel2',         '/SuperTableModel2/20200304/',   'hlramerica_prod',      'parquet_ff', 0, 0, 0);\r\n",
                "-- insert into ext.MoveSetting values (10, 'threeb',                  'threeb',                       '/threeb/',                      'hlramerica_staging',   'parquet_ff', 0, 1, 0);\r\n",
                "insert into ext.MoveSetting values (1, 'SuperTableSum05132020',   'ctassupertablesum05132020',    '/SuperTableSum/05132020/',      'hlramerica_prod',      'parquet_ff', 0, 0, 0);\r\n",
                "insert into ext.MoveSetting values (2, 'SuperTableSum20200610',   'ctasSuperTableSum20200610',    '/SuperTableSum/20200610/',      'hlramerica_prod',      'parquet_ff', 0, 0, 0);\r\n",
                "select * from ext.MoveSetting order by 1;"
            ],
            "metadata": {
                "azdata_cell_guid": "3fbd105e-2f1e-4ed2-9dc8-c7fbe61c5389",
                "tags": []
            },
            "outputs": [
                {
                    "output_type": "display_data",
                    "data": {
                        "text/html": "Commands completed successfully."
                    },
                    "metadata": {}
                },
                {
                    "output_type": "display_data",
                    "data": {
                        "text/html": "Total execution time: 00:00:01.902"
                    },
                    "metadata": {}
                },
                {
                    "output_type": "execute_result",
                    "metadata": {},
                    "execution_count": 2,
                    "data": {
                        "application/vnd.dataresource+json": {
                            "schema": {
                                "fields": [
                                    {
                                        "name": "MoveSettingId"
                                    },
                                    {
                                        "name": "ExtDestination"
                                    },
                                    {
                                        "name": "DboSource"
                                    },
                                    {
                                        "name": "ExtLocation"
                                    },
                                    {
                                        "name": "ExtDS"
                                    },
                                    {
                                        "name": "ExtFF"
                                    },
                                    {
                                        "name": "PrintOnly"
                                    },
                                    {
                                        "name": "OverwriteExtDestination"
                                    },
                                    {
                                        "name": "DropDboSourceOnly"
                                    }
                                ]
                            },
                            "data": [
                                {
                                    "0": "1",
                                    "1": "SuperTableSum05132020",
                                    "2": "ctassupertablesum05132020",
                                    "3": "/SuperTableSum/05132020/",
                                    "4": "hlramerica_prod",
                                    "5": "parquet_ff",
                                    "6": "0",
                                    "7": "0",
                                    "8": "0"
                                },
                                {
                                    "0": "2",
                                    "1": "SuperTableSum20200610",
                                    "2": "ctasSuperTableSum20200610",
                                    "3": "/SuperTableSum/20200610/",
                                    "4": "hlramerica_prod",
                                    "5": "parquet_ff",
                                    "6": "0",
                                    "7": "0",
                                    "8": "0"
                                }
                            ]
                        },
                        "text/html": [
                            "<table>",
                            "<tr><th>MoveSettingId</th><th>ExtDestination</th><th>DboSource</th><th>ExtLocation</th><th>ExtDS</th><th>ExtFF</th><th>PrintOnly</th><th>OverwriteExtDestination</th><th>DropDboSourceOnly</th></tr>",
                            "<tr><td>1</td><td>SuperTableSum05132020</td><td>ctassupertablesum05132020</td><td>/SuperTableSum/05132020/</td><td>hlramerica_prod</td><td>parquet_ff</td><td>0</td><td>0</td><td>0</td></tr>",
                            "<tr><td>2</td><td>SuperTableSum20200610</td><td>ctasSuperTableSum20200610</td><td>/SuperTableSum/20200610/</td><td>hlramerica_prod</td><td>parquet_ff</td><td>0</td><td>0</td><td>0</td></tr>",
                            "</table>"
                        ]
                    }
                }
            ],
            "execution_count": 2
        },
        {
            "cell_type": "markdown",
            "source": [
                "## 🌃 Buildings"
            ],
            "metadata": {
                "azdata_cell_guid": "e7bb65a3-4fc3-4469-82f9-d92673dd488d"
            }
        },
        {
            "cell_type": "code",
            "source": [
                "if object_id('ext.MoveLog') is not null drop table ext.MoveLog;\r\n",
                "create table ext.MoveLog (MoveLogDate datetime not null, Command nvarchar(4000))"
            ],
            "metadata": {
                "azdata_cell_guid": "e0b59b07-6ecf-4360-9cd0-55507d1a04f2",
                "tags": [
                    "hide_input"
                ]
            },
            "outputs": [
                {
                    "output_type": "display_data",
                    "data": {
                        "text/html": "Commands completed successfully."
                    },
                    "metadata": {}
                },
                {
                    "output_type": "display_data",
                    "data": {
                        "text/html": "Total execution time: 00:00:00.895"
                    },
                    "metadata": {}
                }
            ],
            "execution_count": 81
        },
        {
            "cell_type": "markdown",
            "source": [
                "## 🚚 Delivery"
            ],
            "metadata": {
                "azdata_cell_guid": "64e79b48-a614-4100-a90b-172c6536e9c9"
            }
        },
        {
            "cell_type": "code",
            "source": [
                "if object_id('ext.MoveToExt') is not null drop procedure ext.MoveToExt\r\n",
                "go\r\n",
                "\r\n",
                "create procedure ext.MoveToExt\r\n",
                "as \r\n",
                "set nocount on;\r\n",
                "\r\n",
                "    declare @sql nvarchar(max), @count int, @date datetime;\r\n",
                "    \r\n",
                "    if object_id('tempdb.dbo.#MoveSetting') is not null drop table #MoveSetting;\r\n",
                "    create table #MoveSetting (stmt nvarchar(4000));\r\n",
                "\r\n",
                "    if object_id('ext.MoveSetting') is not null and exists (select top 1 1 from ext.MoveSetting)\r\n",
                "    begin \r\n",
                "        \r\n",
                "        --if droping only\r\n",
                "        insert into #MoveSetting (stmt)\r\n",
                "        select 'if object_id(''' + 'dbo.'+DboSource +''') is not null drop table dbo.'+ DboSource +'' as stmt\r\n",
                "        from    ext.MoveSetting\r\n",
                "        where   DropDboSourceOnly = 1;\r\n",
                "\r\n",
                "        select @count = count(*) from #MoveSetting;\r\n",
                "\r\n",
                "        while @count>0 \r\n",
                "        begin \r\n",
                "\r\n",
                "            select top 1 @sql = stmt from #MoveSetting;\r\n",
                "            print @sql; execute sp_executesql @sql;\r\n",
                "            select @date = getdate();\r\n",
                "            insert ext.MoveLog values (@date,@sql);\r\n",
                "\r\n",
                "            delete from #MoveSetting where stmt = @sql\r\n",
                "            set @count = @count - 1;\r\n",
                "        \r\n",
                "        end\r\n",
                "\r\n",
                "        --if replacing\r\n",
                "        insert into #MoveSetting (stmt)\r\n",
                "        select 'if object_id('''+'ext.'+ ExtDestination +''') is not null drop external table ext.'+ ExtDestination +'' as stmt\r\n",
                "        from    ext.MoveSetting\r\n",
                "        where   OverwriteExtDestination = 1;\r\n",
                "\r\n",
                "        select @count = count(*) from #MoveSetting;\r\n",
                "\r\n",
                "        while @count>0 \r\n",
                "        begin \r\n",
                "\r\n",
                "            select top 1 @sql = stmt from #MoveSetting;\r\n",
                "            print @sql; execute sp_executesql @sql;\r\n",
                "            select @date = getdate();\r\n",
                "            insert ext.MoveLog values (@date,@sql);\r\n",
                "\r\n",
                "            delete from #MoveSetting where stmt = @sql\r\n",
                "            set @count = @count - 1;\r\n",
                "        \r\n",
                "        end\r\n",
                "\r\n",
                "        --move\r\n",
                "        insert into #MoveSetting (stmt)\r\n",
                "        select 'exec ext.MoveTable \r\n",
                "                @extDestination ='''+ ExtDestination +''',\r\n",
                "                @dboSource      ='''+ DboSource +''',\r\n",
                "                @extLocation    ='''+ ExtLocation +''',\r\n",
                "                @extDS          ='''+ ExtDS +''',\r\n",
                "                @extFF          ='''+ ExtFF +''',\r\n",
                "                @printonly      ='''+ PrintOnly +'''' as stmt\r\n",
                "        from    ext.MoveSetting;\r\n",
                "\r\n",
                "        select @count = count(*) from #MoveSetting;\r\n",
                "\r\n",
                "        while @count>0 \r\n",
                "        begin \r\n",
                "\r\n",
                "            select top 1 @sql = stmt from #MoveSetting;\r\n",
                "            print @sql; execute sp_executesql @sql;\r\n",
                "            select @date = getdate();\r\n",
                "            insert ext.MoveLog values (@date,@sql);\r\n",
                "\r\n",
                "            delete from #MoveSetting where stmt = @sql\r\n",
                "            set @count = @count - 1;\r\n",
                "        \r\n",
                "        end\r\n",
                "\r\n",
                "    end\r\n",
                "\r\n",
                "go "
            ],
            "metadata": {
                "azdata_cell_guid": "4bcbd0b4-17fa-4468-a59a-9934cb9882d7",
                "tags": [
                    "hide_input"
                ]
            },
            "outputs": [
                {
                    "output_type": "display_data",
                    "data": {
                        "text/html": "Commands completed successfully."
                    },
                    "metadata": {}
                },
                {
                    "output_type": "display_data",
                    "data": {
                        "text/html": "Commands completed successfully."
                    },
                    "metadata": {}
                },
                {
                    "output_type": "display_data",
                    "data": {
                        "text/html": "Total execution time: 00:00:00.206"
                    },
                    "metadata": {}
                }
            ],
            "execution_count": 88
        },
        {
            "cell_type": "code",
            "source": [
                "alter proc [ext].[MoveTable] \r\n",
                "    @extDestination [nvarchar](256),\r\n",
                "    @dboSource [nvarchar](256),\r\n",
                "    @extLocation [nvarchar](256),\r\n",
                "    @extDS [nvarchar](256),\r\n",
                "    @extFF [nvarchar](128),\r\n",
                "    @printonly [bit] \r\n",
                "as \r\n",
                "    declare @date datetime;\r\n",
                "\r\n",
                "    --checks\r\n",
                "    if @extDS not in (select name from sys.external_data_sources) --hlramerica_raw, hlramerica_stage, hlramerica_prod\r\n",
                "    and @extDestination in (select name from sys.external_tables where schema_id = SCHEMA_ID('ext'))\r\n",
                "    and @extFF not in (select name from sys.external_file_formats) --parquet_ff, csv_ff\r\n",
                "    and @dboSource not in (select name from sys.tables)\r\n",
                "    begin \r\n",
                "        throw 151000, 'Checks Error: Invalid inputs.', 1;\r\n",
                "    end \r\n",
                "\r\n",
                "    --run\r\n",
                "    declare @sql nvarchar(max) =N'create external table [ext].['+@extDestination+']\r\n",
                "    with (   \r\n",
                "        location = '''+ @extLocation +''',\r\n",
                "        data_source = '+ @extDS +',  \r\n",
                "        file_format = '+ @extFF +'\r\n",
                "    )\r\n",
                "    as select * from [dbo].['+@dboSource+'];\r\n",
                "    select count_big (*) from [ext].['+@extDestination+'];\r\n",
                "    exec sp_spaceused '+@dboSource+';\r\n",
                "    drop table [dbo].['+@dboSource+'];'\r\n",
                "\r\n",
                "    print @sql;\r\n",
                "    if @printonly = 0\r\n",
                "    begin\r\n",
                "        execute sp_executesql @sql;\r\n",
                "        select @date = getdate();\r\n",
                "        insert ext.MoveLog values (@date,@sql);\r\n",
                "    end\r\n",
                "\r\n",
                "GO\r\n",
                ""
            ],
            "metadata": {
                "azdata_cell_guid": "e7ff3338-6d8e-4ab3-821f-ee8ccebe86ec",
                "tags": [
                    "hide_input"
                ]
            },
            "outputs": [
                {
                    "output_type": "display_data",
                    "data": {
                        "text/html": "Commands completed successfully."
                    },
                    "metadata": {}
                },
                {
                    "output_type": "display_data",
                    "data": {
                        "text/html": "Total execution time: 00:00:00.096"
                    },
                    "metadata": {}
                }
            ],
            "execution_count": 91
        },
        {
            "cell_type": "markdown",
            "source": [
                "## 🧼 Cleanup"
            ],
            "metadata": {
                "azdata_cell_guid": "ef719657-3c43-41fd-a167-f9d9b5573ac0"
            }
        },
        {
            "cell_type": "code",
            "source": [
                "--deleted folder.\r\n",
                "if object_id('ext.tomatto') is not null drop external table ext.tomatto\r\n",
                "if object_id('ext.lettuce') is not null drop external table ext.lettuce\r\n",
                "-- delete from ext.MoveLog;"
            ],
            "metadata": {
                "azdata_cell_guid": "39a1b84b-3299-4bfd-af6a-89bd75c8ce6a",
                "tags": [
                    "hide_input"
                ]
            },
            "outputs": [
                {
                    "output_type": "display_data",
                    "data": {
                        "text/html": "Commands completed successfully."
                    },
                    "metadata": {}
                },
                {
                    "output_type": "display_data",
                    "data": {
                        "text/html": "Total execution time: 00:00:00.800"
                    },
                    "metadata": {}
                }
            ],
            "execution_count": 11
        },
        {
            "cell_type": "markdown",
            "source": [
                "## ⌚ Status"
            ],
            "metadata": {
                "azdata_cell_guid": "2395bd57-6957-4de0-a30b-90ae2fbbf00c"
            }
        },
        {
            "cell_type": "code",
            "source": [
                "queryactivity\r\n",
                "go \r\n",
                "select      top 10 \r\n",
                "            ps.table_name, \r\n",
                "            ps.two_part_name, \r\n",
                "            sum(ps.reserved_space_GB) as table_reserved_space_GB, \r\n",
                "            sum(ps.row_count) as row_count\r\n",
                "from        dbo.vPartitionSizing ps\r\n",
                "inner join ext.MoveSetting ms \r\n",
                "    on ms.DboSource=ps.table_name\r\n",
                "where       table_name not in (\r\n",
                "    'ctasSuperTableSum',\r\n",
                "    'ctasSuperMapPremiumJump',\r\n",
                "    'ctasTempMask2018Dupes',\r\n",
                "    'mapBrockRebootedTreatiesCtasReplicate',\r\n",
                "    'mapPostLevelStatusCtasReplicate',\r\n",
                "    'mapRptOnePostLevelJumpsCtasReplicate',\r\n",
                "    'mapTreatyReplicate',\r\n",
                "    'mapTreatyTermsReplicate'\r\n",
                ") --pbi tables\r\n",
                "group by    table_name, two_part_name\r\n",
                "order by    table_reserved_space_GB desc;"
            ],
            "metadata": {
                "azdata_cell_guid": "7a694051-26f9-4f9a-a0a2-c5f244712f2a"
            },
            "outputs": [
                {
                    "output_type": "execute_result",
                    "execution_count": 21,
                    "data": {
                        "application/vnd.dataresource+json": {
                            "schema": {
                                "fields": [
                                    {
                                        "name": "app_name"
                                    },
                                    {
                                        "name": "request_id"
                                    },
                                    {
                                        "name": "step_index"
                                    },
                                    {
                                        "name": "operation_type"
                                    },
                                    {
                                        "name": "distribution_type"
                                    },
                                    {
                                        "name": "location_type"
                                    },
                                    {
                                        "name": "status"
                                    },
                                    {
                                        "name": "error_id"
                                    },
                                    {
                                        "name": "start_time"
                                    },
                                    {
                                        "name": "end_time"
                                    },
                                    {
                                        "name": "duration"
                                    },
                                    {
                                        "name": "TotalElapsedMinutes"
                                    },
                                    {
                                        "name": "TotalElapsedHours"
                                    },
                                    {
                                        "name": "row_count"
                                    },
                                    {
                                        "name": "command"
                                    },
                                    {
                                        "name": "request_id"
                                    },
                                    {
                                        "name": "status"
                                    },
                                    {
                                        "name": "TotalElapsedMinutes"
                                    },
                                    {
                                        "name": "resource_class"
                                    },
                                    {
                                        "name": "importance"
                                    }
                                ]
                            },
                            "data": []
                        },
                        "text/html": "<table><tr><th>app_name</th><th>request_id</th><th>step_index</th><th>operation_type</th><th>distribution_type</th><th>location_type</th><th>status</th><th>error_id</th><th>start_time</th><th>end_time</th><th>duration</th><th>TotalElapsedMinutes</th><th>TotalElapsedHours</th><th>row_count</th><th>command</th><th>request_id</th><th>status</th><th>TotalElapsedMinutes</th><th>resource_class</th><th>importance</th></tr></table>"
                    },
                    "metadata": {}
                },
                {
                    "output_type": "display_data",
                    "data": {
                        "text/html": "(0 rows affected)"
                    },
                    "metadata": {}
                },
                {
                    "output_type": "display_data",
                    "data": {
                        "text/html": "(3 rows affected)"
                    },
                    "metadata": {}
                },
                {
                    "output_type": "display_data",
                    "data": {
                        "text/html": "Total execution time: 00:00:05.594"
                    },
                    "metadata": {}
                },
                {
                    "output_type": "execute_result",
                    "execution_count": 21,
                    "data": {
                        "application/vnd.dataresource+json": {
                            "schema": {
                                "fields": [
                                    {
                                        "name": "table_name"
                                    },
                                    {
                                        "name": "two_part_name"
                                    },
                                    {
                                        "name": "table_reserved_space_GB"
                                    },
                                    {
                                        "name": "row_count"
                                    }
                                ]
                            },
                            "data": [
                                {
                                    "0": "ctasSuperTableStage",
                                    "1": "[dbo].[ctasSuperTableStage]",
                                    "2": "595.313032000",
                                    "3": "3901066338"
                                },
                                {
                                    "0": "ctasSuperTableModel2",
                                    "1": "[dbo].[ctasSuperTableModel2]",
                                    "2": "354.140608000",
                                    "3": "3033493253"
                                },
                                {
                                    "0": "threeb",
                                    "1": "[dbo].[threeb]",
                                    "2": "272.982144000",
                                    "3": "4761032944"
                                }
                            ]
                        },
                        "text/html": "<table><tr><th>table_name</th><th>two_part_name</th><th>table_reserved_space_GB</th><th>row_count</th></tr><tr><td>ctasSuperTableStage</td><td>[dbo].[ctasSuperTableStage]</td><td>595.313032000</td><td>3901066338</td></tr><tr><td>ctasSuperTableModel2</td><td>[dbo].[ctasSuperTableModel2]</td><td>354.140608000</td><td>3033493253</td></tr><tr><td>threeb</td><td>[dbo].[threeb]</td><td>272.982144000</td><td>4761032944</td></tr></table>"
                    },
                    "metadata": {}
                }
            ],
            "execution_count": 21
        }
    ]
}